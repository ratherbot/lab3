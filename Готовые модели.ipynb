{
 "cells": [
  {
   "cell_type": "markdown",
   "id": "3085ec43-34bb-4afb-9515-517e0489db3e",
   "metadata": {},
   "source": [
    "## Классические алгоритмы без ансамблирования\n",
    "В этом ноутбуке вам нужно обучить модели на датасете классификации из предыдущего ноутбука и сравнить результаты. Вам будет предоставлен baseline, на основе которого вы будете доделывать предсказывающие модели. Оценка лабы будет зависеть от ROC-AUC на тестовых данных по следующим критериям:\n",
    "\\\n",
    "AUC - на тестовых данных\n",
    "- $AUC \\leq 0.75$ - 0 баллов\n",
    "- $0.75 < AUC \\leq 0.76$ - 2 балла\n",
    "- $0.76 < AUC \\leq 0.77$ - 4 балла\n",
    "- $0.77 < AUC \\leq 0.78$ - 6 баллов\n",
    "- $0.78 < AUC \\leq 0.79$ - 8 баллов\n",
    "- $AUC > 0.79$ - 10 баллов\n",
    "\n",
    "\\\n",
    "В этой работе запрещено использовать ансамбли моделей (лес, бустинги и т.д.)!"
   ]
  },
  {
   "cell_type": "code",
   "id": "ec07e3a2-480a-4350-868e-02679ff2aada",
   "metadata": {
    "ExecuteTime": {
     "end_time": "2024-11-08T20:42:59.822080Z",
     "start_time": "2024-11-08T20:42:59.818238Z"
    }
   },
   "source": [
    "from sklearn.linear_model import LogisticRegression\n",
    "from sklearn.tree import DecisionTreeClassifier\n",
    "from sklearn.neighbors import KNeighborsClassifier\n",
    "from sklearn.preprocessing import MinMaxScaler\n",
    "from sklearn.metrics import roc_auc_score, precision_score, recall_score, accuracy_score\n",
    "from sklearn.model_selection import train_test_split, GridSearchCV, KFold, StratifiedKFold\n",
    "from sklearn.feature_selection import SelectKBest, f_classif\n",
    "import matplotlib.pyplot as plt\n",
    "import pandas as pd\n",
    "import numpy as np"
   ],
   "outputs": [],
   "execution_count": 411
  },
  {
   "cell_type": "code",
   "id": "563ad31b-5c83-4366-819a-34dad4edecdc",
   "metadata": {
    "ExecuteTime": {
     "end_time": "2024-11-08T20:43:07.043576Z",
     "start_time": "2024-11-08T20:43:07.035408Z"
    }
   },
   "source": [
    "data = pd.read_csv('german.csv', sep=';')\n",
    "\n",
    "X = data.iloc[:, 1:].to_numpy()\n",
    "y = data.iloc[:, 0].to_numpy()\n",
    "\n",
    "X_train, X_test, y_train, y_test = train_test_split(X, y, test_size=0.21, random_state=42, stratify=y)"
   ],
   "outputs": [],
   "execution_count": 412
  },
  {
   "cell_type": "code",
   "id": "f93737ec-e5eb-4d72-8beb-5dba4d4c581f",
   "metadata": {
    "ExecuteTime": {
     "end_time": "2024-11-08T20:43:12.057490Z",
     "start_time": "2024-11-08T20:43:12.002337Z"
    }
   },
   "source": [
    "plt.hist(y_train, bins=2, edgecolor='k')\n",
    "plt.xticks([0, 1])\n",
    "plt.xlabel('Class (0: Non-Creditworthy, 1: Creditworthy)')\n",
    "plt.ylabel('Count')\n",
    "plt.title('Distribution of Classes in Training Data')\n",
    "plt.show()"
   ],
   "outputs": [
    {
     "data": {
      "text/plain": [
       "<Figure size 640x480 with 1 Axes>"
      ],
      "image/png": "[encoded data removed]"
     },
     "metadata": {},
     "output_type": "display_data"
    }
   ],
   "execution_count": 413
  },
  {
   "cell_type": "code",
   "id": "1ccf0690-1d07-4026-85f2-674c5688d4d0",
   "metadata": {
    "ExecuteTime": {
     "end_time": "2024-11-08T20:43:20.430213Z",
     "start_time": "2024-11-08T20:43:19.713838Z"
    }
   },
   "source": [
    "#Масштабирование признаков\n",
    "scaler = MinMaxScaler()\n",
    "X_train = scaler.fit_transform(X_train)\n",
    "X_test = scaler.transform(X_test)\n",
    "\n",
    "# Отбор признаков\n",
    "selector = SelectKBest(score_func=f_classif, k=16)\n",
    "X_train_selected = selector.fit_transform(X_train, y_train)\n",
    "X_test_selected = selector.transform(X_test)\n",
    "\n",
    "# Создание модели Logistic Regression\n",
    "log_reg_params = {'C': [0.001, 0.01, 0.1, 1, 10, 100], 'penalty': ['l1', 'l2'], 'solver': ['liblinear']}\n",
    "logistic_regression_grid = GridSearchCV(LogisticRegression(class_weight='balanced', random_state=42), log_reg_params, cv=5, scoring='roc_auc')\n",
    "logistic_regression_grid.fit(X_train_selected, y_train)\n",
    "logistic_regression_model = logistic_regression_grid.best_estimator_\n",
    "\n",
    "# Создание модели Decision Tree\n",
    "tree_params = {\n",
    "    'max_depth': [10, 12, 14, 16, 18, 20],                 \n",
    "    'min_impurity_decrease': [0.0075],\n",
    "    'splitter': ['random'],                  \n",
    "    'max_leaf_nodes': [15],\n",
    "    'min_weight_fraction_leaf': [0.062],\n",
    "}\n",
    "\n",
    "# Кросс-валидация\n",
    "kfold = StratifiedKFold(n_splits=9, random_state=42, shuffle=True)\n",
    "\n",
    "decision_tree_grid = GridSearchCV(\n",
    "    DecisionTreeClassifier(random_state=42),\n",
    "    tree_params, \n",
    "    cv=kfold, \n",
    "    scoring='roc_auc'\n",
    ")\n",
    "\n",
    "decision_tree_grid.fit(X_train_selected, y_train)\n",
    "decision_tree_model = decision_tree_grid.best_estimator_\n",
    "\n",
    "# Создание модели K-Nearest Neighbors\n",
    "knn_params = {'n_neighbors': range(5, 30, 5), 'metric': ['euclidean', 'manhattan']}\n",
    "knn_grid = GridSearchCV(KNeighborsClassifier(), knn_params, cv=kfold, scoring='roc_auc')\n",
    "knn_grid.fit(X_train_selected, y_train)\n",
    "knn_model = knn_grid.best_estimator_"
   ],
   "outputs": [],
   "execution_count": 414
  },
  {
   "cell_type": "code",
   "id": "c2ebd8b0-3f81-4365-9f84-44bf50bbcbe4",
   "metadata": {
    "ExecuteTime": {
     "end_time": "2024-11-08T20:43:35.660830Z",
     "start_time": "2024-11-08T20:43:35.628457Z"
    }
   },
   "source": [
    "y_prob_logistic = logistic_regression_model.predict_proba(X_test_selected)[:, 1]\n",
    "y_prob_decision_tree = decision_tree_model.predict_proba(X_test_selected)[:, 1]\n",
    "y_prob_knn = knn_model.predict_proba(X_test_selected)[:, 1]\n",
    "\n",
    "y_pred_logistic = logistic_regression_model.predict(X_test_selected)\n",
    "y_pred_decision_tree = decision_tree_model.predict(X_test_selected)\n",
    "y_pred_knn = knn_model.predict(X_test_selected)\n",
    "\n",
    "accuracy_logistic = accuracy_score(y_test, y_pred_logistic)\n",
    "accuracy_decision_tree = accuracy_score(y_test, y_pred_decision_tree)\n",
    "accuracy_knn = accuracy_score(y_test, y_pred_knn)\n",
    "\n",
    "roc_auc_logistic = roc_auc_score(y_test, y_prob_logistic)\n",
    "roc_auc_decision_tree = roc_auc_score(y_test, y_prob_decision_tree)\n",
    "roc_auc_knn = roc_auc_score(y_test, y_prob_knn)\n",
    "\n",
    "precision_logistic = precision_score(y_test, y_pred_logistic)\n",
    "precision_decision_tree = precision_score(y_test, y_pred_decision_tree)\n",
    "precision_knn = precision_score(y_test, y_pred_knn)\n",
    "\n",
    "recall_logistic = recall_score(y_test, y_pred_logistic)\n",
    "recall_decision_tree = recall_score(y_test, y_pred_decision_tree)\n",
    "recall_knn = recall_score(y_test, y_pred_knn)\n",
    "\n",
    "print(f'Accuracy of Logistic Regression: {accuracy_logistic}')\n",
    "print(f'Accuracy of Decision Tree: {accuracy_decision_tree}')\n",
    "print(f'Accuracy of K-Nearest Neighbors: {accuracy_knn}')\n",
    "\n",
    "print(f'ROC AUC of Logistic Regression: {roc_auc_logistic}')\n",
    "print(f'ROC AUC of Decision Tree: {roc_auc_decision_tree}')\n",
    "print(f'ROC AUC of K-Nearest Neighbors: {roc_auc_knn}')\n",
    "\n",
    "print(f'Precision of Logistic Regression: {precision_logistic}')\n",
    "print(f'Precision of Decision Tree: {precision_decision_tree}')\n",
    "print(f'Precision of K-Nearest Neighbors: {precision_knn}')\n",
    "\n",
    "print(f'Recall of Logistic Regression: {recall_logistic}')\n",
    "print(f'Recall of Decision Tree: {recall_decision_tree}')\n",
    "print(f'Recall of K-Nearest Neighbors: {recall_knn}')"
   ],
   "outputs": [
    {
     "name": "stdout",
     "output_type": "stream",
     "text": [
      "Accuracy of Logistic Regression: 0.7523809523809524\n",
      "Accuracy of Decision Tree: 0.7666666666666667\n",
      "Accuracy of K-Nearest Neighbors: 0.7619047619047619\n",
      "ROC AUC of Logistic Regression: 0.8336032825828744\n",
      "ROC AUC of Decision Tree: 0.7869560522621748\n",
      "ROC AUC of K-Nearest Neighbors: 0.7931648850016199\n",
      "Precision of Logistic Regression: 0.88\n",
      "Precision of Decision Tree: 0.7951807228915663\n",
      "Precision of K-Nearest Neighbors: 0.7740112994350282\n",
      "Recall of Logistic Regression: 0.7482993197278912\n",
      "Recall of Decision Tree: 0.8979591836734694\n",
      "Recall of K-Nearest Neighbors: 0.9319727891156463\n"
     ]
    }
   ],
   "execution_count": 415
  },
  {
   "metadata": {},
   "cell_type": "markdown",
   "source": [
    "## Экспериментируйте\n",
    "Для получения лучшего качества придется поэкспериментировать. Подсказка: попробуйте оптимизировать гиперпараметры модели"
   ],
   "id": "d2d6eb00-77fd-40dc-a3c5-35c1fe0200c0"
  }
 ],
 "metadata": {
  "kernelspec": {
   "display_name": "Python 3 (ipykernel)",
   "language": "python",
   "name": "python3"
  },
  "language_info": {
   "codemirror_mode": {
    "name": "ipython",
    "version": 3
   },
   "file_extension": ".py",
   "mimetype": "text/x-python",
   "name": "python",
   "nbconvert_exporter": "python",
   "pygments_lexer": "ipython3",
   "version": "3.9.7"
  }
 },
 "nbformat": 4,
 "nbformat_minor": 5
}
